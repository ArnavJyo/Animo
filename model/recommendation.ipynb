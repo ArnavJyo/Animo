{
 "cells": [
  {
   "cell_type": "code",
   "execution_count": 1,
   "metadata": {},
   "outputs": [],
   "source": [
    "import numpy as np\n",
    "import pandas as pd\n",
    "import matplotlib.pyplot as plt\n",
    "from sklearn.metrics.pairwise import cosine_similarity\n",
    "from sklearn.impute import SimpleImputer\n",
    "from sklearn.feature_extraction.text import TfidfVectorizer\n",
    "from sklearn.metrics.pairwise import cosine_similarity\n",
    "from scipy.sparse import hstack\n",
    "from sklearn.preprocessing import MinMaxScaler"
   ]
  },
  {
   "cell_type": "code",
   "execution_count": 2,
   "metadata": {},
   "outputs": [
    {
     "data": {
      "text/html": [
       "<div>\n",
       "<style scoped>\n",
       "    .dataframe tbody tr th:only-of-type {\n",
       "        vertical-align: middle;\n",
       "    }\n",
       "\n",
       "    .dataframe tbody tr th {\n",
       "        vertical-align: top;\n",
       "    }\n",
       "\n",
       "    .dataframe thead th {\n",
       "        text-align: right;\n",
       "    }\n",
       "</style>\n",
       "<table border=\"1\" class=\"dataframe\">\n",
       "  <thead>\n",
       "    <tr style=\"text-align: right;\">\n",
       "      <th></th>\n",
       "      <th>MAL_ID</th>\n",
       "      <th>Name</th>\n",
       "      <th>Score</th>\n",
       "      <th>Genres</th>\n",
       "      <th>Synopsis</th>\n",
       "    </tr>\n",
       "  </thead>\n",
       "  <tbody>\n",
       "    <tr>\n",
       "      <th>0</th>\n",
       "      <td>1</td>\n",
       "      <td>Cowboy Bebop</td>\n",
       "      <td>8.78</td>\n",
       "      <td>Action, Adventure, Comedy, Drama, Sci-Fi, Space</td>\n",
       "      <td>In the year 2071, humanity has colonized sever...</td>\n",
       "    </tr>\n",
       "    <tr>\n",
       "      <th>1</th>\n",
       "      <td>5</td>\n",
       "      <td>Cowboy Bebop: Tengoku no Tobira</td>\n",
       "      <td>8.39</td>\n",
       "      <td>Action, Drama, Mystery, Sci-Fi, Space</td>\n",
       "      <td>other day, another bounty—such is the life of ...</td>\n",
       "    </tr>\n",
       "    <tr>\n",
       "      <th>2</th>\n",
       "      <td>6</td>\n",
       "      <td>Trigun</td>\n",
       "      <td>8.24</td>\n",
       "      <td>Action, Sci-Fi, Adventure, Comedy, Drama, Shounen</td>\n",
       "      <td>Vash the Stampede is the man with a $$60,000,0...</td>\n",
       "    </tr>\n",
       "    <tr>\n",
       "      <th>3</th>\n",
       "      <td>7</td>\n",
       "      <td>Witch Hunter Robin</td>\n",
       "      <td>7.27</td>\n",
       "      <td>Action, Mystery, Police, Supernatural, Drama, ...</td>\n",
       "      <td>ches are individuals with special powers like ...</td>\n",
       "    </tr>\n",
       "    <tr>\n",
       "      <th>4</th>\n",
       "      <td>8</td>\n",
       "      <td>Bouken Ou Beet</td>\n",
       "      <td>6.98</td>\n",
       "      <td>Adventure, Fantasy, Shounen, Supernatural</td>\n",
       "      <td>It is the dark century and the people are suff...</td>\n",
       "    </tr>\n",
       "  </tbody>\n",
       "</table>\n",
       "</div>"
      ],
      "text/plain": [
       "   MAL_ID                             Name Score  \\\n",
       "0       1                     Cowboy Bebop  8.78   \n",
       "1       5  Cowboy Bebop: Tengoku no Tobira  8.39   \n",
       "2       6                           Trigun  8.24   \n",
       "3       7               Witch Hunter Robin  7.27   \n",
       "4       8                   Bouken Ou Beet  6.98   \n",
       "\n",
       "                                              Genres  \\\n",
       "0    Action, Adventure, Comedy, Drama, Sci-Fi, Space   \n",
       "1              Action, Drama, Mystery, Sci-Fi, Space   \n",
       "2  Action, Sci-Fi, Adventure, Comedy, Drama, Shounen   \n",
       "3  Action, Mystery, Police, Supernatural, Drama, ...   \n",
       "4          Adventure, Fantasy, Shounen, Supernatural   \n",
       "\n",
       "                                            Synopsis  \n",
       "0  In the year 2071, humanity has colonized sever...  \n",
       "1  other day, another bounty—such is the life of ...  \n",
       "2  Vash the Stampede is the man with a $$60,000,0...  \n",
       "3  ches are individuals with special powers like ...  \n",
       "4  It is the dark century and the people are suff...  "
      ]
     },
     "execution_count": 2,
     "metadata": {},
     "output_type": "execute_result"
    }
   ],
   "source": [
    "df = pd.read_csv(\"anime_with_synopsis.csv\");\n",
    "df.head()"
   ]
  },
  {
   "cell_type": "code",
   "execution_count": 3,
   "metadata": {},
   "outputs": [
    {
     "data": {
      "text/plain": [
       "(16215, 5)"
      ]
     },
     "execution_count": 3,
     "metadata": {},
     "output_type": "execute_result"
    }
   ],
   "source": [
    "df.shape"
   ]
  },
  {
   "cell_type": "code",
   "execution_count": 4,
   "metadata": {},
   "outputs": [
    {
     "data": {
      "text/plain": [
       "MAL_ID      0\n",
       "Name        0\n",
       "Score       0\n",
       "Genres      0\n",
       "Synopsis    8\n",
       "dtype: int64"
      ]
     },
     "execution_count": 4,
     "metadata": {},
     "output_type": "execute_result"
    }
   ],
   "source": [
    "df.isnull().sum()"
   ]
  },
  {
   "cell_type": "code",
   "execution_count": 5,
   "metadata": {},
   "outputs": [
    {
     "name": "stdout",
     "output_type": "stream",
     "text": [
      "Rows with missing synopsis:\n",
      "       MAL_ID                                               Name    Score  \\\n",
      "11451   34755  Kuma no Gakkou: Patissier Jackie to Ohisama no...  Unknown   \n",
      "11469   34794                                Yukai na Animal Bus  Unknown   \n",
      "13686   38475                                   Yuru Camp△ Movie  Unknown   \n",
      "15025   40714  Youkai Watch Jam: Youkai Gakuen Y - N to no So...     6.28   \n",
      "15747   42717                   Kaeru no Pickles: Kimochi no Iro  Unknown   \n",
      "16056   44848                                        Iii Icecrin  Unknown   \n",
      "16110   45731                   Argonavis from BanG Dream! Movie  Unknown   \n",
      "16120   46095                          Vivy: Fluorite Eye's Song  Unknown   \n",
      "\n",
      "                                           Genres Synopsis  \n",
      "11451                                Comedy, Kids      NaN  \n",
      "11469                                Comedy, Kids      NaN  \n",
      "13686                       Comedy, Slice of Life      NaN  \n",
      "15025  Comedy, Demons, Kids, Supernatural, School      NaN  \n",
      "15747                         Slice of Life, Kids      NaN  \n",
      "16056                                        Kids      NaN  \n",
      "16110                                       Music      NaN  \n",
      "16120                                      Sci-Fi      NaN  \n"
     ]
    }
   ],
   "source": [
    "missing_synopsis = df[df['Synopsis'].isnull()]\n",
    "print(\"Rows with missing synopsis:\")\n",
    "print(missing_synopsis)"
   ]
  },
  {
   "cell_type": "code",
   "execution_count": 6,
   "metadata": {},
   "outputs": [
    {
     "name": "stdout",
     "output_type": "stream",
     "text": [
      "Rows with missing synopsis:\n",
      "Empty DataFrame\n",
      "Columns: [MAL_ID, Name, Score, Genres, Synopsis]\n",
      "Index: []\n"
     ]
    }
   ],
   "source": [
    "\n",
    "df['Synopsis'].fillna('No synopsis available', inplace=True)\n",
    "missing_synopsis = df[df['Synopsis'].isnull()]\n",
    "print(\"Rows with missing synopsis:\")\n",
    "print(missing_synopsis)"
   ]
  },
  {
   "cell_type": "code",
   "execution_count": 7,
   "metadata": {},
   "outputs": [
    {
     "name": "stdout",
     "output_type": "stream",
     "text": [
      "       MAL_ID                                               Name    Score  \\\n",
      "1347     1547                                   Obake no Q-tarou  Unknown   \n",
      "1439     1656                                    PostPet Momobin  Unknown   \n",
      "1512     1739                         Shibawanko no Wa no Kokoro  Unknown   \n",
      "1619     1863                            Silk Road Shounen Yuuto  Unknown   \n",
      "1808     2073  Hengen Taima Yakou Karura Mau! Sendai Kokeshi ...  Unknown   \n",
      "...       ...                                                ...      ...   \n",
      "16209   48481                    Daomu Biji Zhi Qinling Shen Shu  Unknown   \n",
      "16210   48483                                       Mieruko-chan  Unknown   \n",
      "16211   48488                    Higurashi no Naku Koro ni Sotsu  Unknown   \n",
      "16212   48491                        Yama no Susume: Next Summit  Unknown   \n",
      "16213   48492                                      Scarlet Nexus  Unknown   \n",
      "\n",
      "                                                  Genres  \\\n",
      "1347         Comedy, School, Slice of Life, Supernatural   \n",
      "1439                                        Comedy, Kids   \n",
      "1512                                                Kids   \n",
      "1619                      Adventure, Fantasy, Historical   \n",
      "1808                                      Horror, Shoujo   \n",
      "...                                                  ...   \n",
      "16209                   Adventure, Mystery, Supernatural   \n",
      "16210                       Comedy, Horror, Supernatural   \n",
      "16211  Mystery, Dementia, Horror, Psychological, Supe...   \n",
      "16212                   Adventure, Slice of Life, Comedy   \n",
      "16213                                    Action, Fantasy   \n",
      "\n",
      "                                                Synopsis  \n",
      "1347   Q-taro, a monster, is living with the Ohara fa...  \n",
      "1439   omo and Komomo can deliver mail from anyone, t...  \n",
      "1512   Based on a japanese children`s book by Yoshie ...  \n",
      "1619   hen a boy Yuto visits Qinghai in China, he is ...  \n",
      "1808   Shoko and Maiko Ougi are apparently two ordina...  \n",
      "...                                                  ...  \n",
      "16209  No synopsis information has been added to this...  \n",
      "16210  ko is a typical high school student whose life...  \n",
      "16211          Sequel to Higurashi no Naku Koro ni Gou .  \n",
      "16212                          New Yama no Susume anime.  \n",
      "16213  Solar calendar year 2020: grotesque organisms ...  \n",
      "\n",
      "[5123 rows x 5 columns]\n"
     ]
    }
   ],
   "source": [
    "unknown_scores= df[df['Score']== \"Unknown\"]\n",
    "print(unknown_scores)"
   ]
  },
  {
   "cell_type": "code",
   "execution_count": 8,
   "metadata": {},
   "outputs": [
    {
     "name": "stdout",
     "output_type": "stream",
     "text": [
      "MAL_ID                                                   1547\n",
      "Name                                         Obake no Q-tarou\n",
      "Score                                                    6.57\n",
      "Genres            Comedy, School, Slice of Life, Supernatural\n",
      "Synopsis    Q-taro, a monster, is living with the Ohara fa...\n",
      "Name: 1347, dtype: object\n"
     ]
    }
   ],
   "source": [
    "\n",
    "df['Score'].fillna('Unknown', inplace=True)\n",
    "df['Score'] = pd.to_numeric(df['Score'], errors='coerce')\n",
    "imputer = SimpleImputer(strategy='median')\n",
    "df['Score'] = imputer.fit_transform(df[['Score']])\n",
    "row_1347 = df.iloc[1347]  \n",
    "print(row_1347)"
   ]
  },
  {
   "cell_type": "code",
   "execution_count": 9,
   "metadata": {},
   "outputs": [
    {
     "name": "stdout",
     "output_type": "stream",
     "text": [
      "Count of Different Genres:\n",
      "Comedy           5975\n",
      "Action           3847\n",
      "Fantasy          3203\n",
      "Adventure        2942\n",
      "Kids             2665\n",
      "Drama            2589\n",
      "Sci-Fi           2552\n",
      "Music            2241\n",
      "Shounen          2003\n",
      "Slice of Life    1912\n",
      "Romance          1852\n",
      "School           1577\n",
      "Supernatural     1410\n",
      "Historical       1129\n",
      "Mecha            1094\n",
      "Magic            1056\n",
      "Seinen            830\n",
      "Ecchi             767\n",
      "Mystery           721\n",
      "Sports            708\n",
      "Shoujo            688\n",
      "Parody            649\n",
      "Super Power       627\n",
      "Military          572\n",
      "Dementia          510\n",
      "Space             491\n",
      "Demons            434\n",
      "Horror            430\n",
      "Martial Arts      416\n",
      "Game              386\n",
      "Harem             357\n",
      "Psychological     340\n",
      "Police            243\n",
      "Samurai           202\n",
      "Cars              133\n",
      "Vampire           133\n",
      "Thriller          130\n",
      "Shounen Ai        100\n",
      "Josei              96\n",
      "Shoujo Ai          79\n",
      "Unknown            63\n",
      "Yaoi               31\n",
      "dtype: int64\n"
     ]
    }
   ],
   "source": [
    "# Step 1: Split genres string into individual genres\n",
    "genres_split = df['Genres'].str.split(', ')\n",
    "\n",
    "# Step 2: Flatten the list of genres\n",
    "all_genres = [genre for genres_list in genres_split.dropna() for genre in genres_list]\n",
    "\n",
    "# Step 3: Use value_counts to count occurrences of each genre\n",
    "genre_counts = pd.Series(all_genres).value_counts()\n",
    "\n",
    "# Display the count of different genres\n",
    "print(\"Count of Different Genres:\")\n",
    "print(genre_counts)\n"
   ]
  },
  {
   "cell_type": "code",
   "execution_count": 13,
   "metadata": {},
   "outputs": [
    {
     "name": "stdout",
     "output_type": "stream",
     "text": [
      "Top 20 Similar Anime for Each Anime:\n"
     ]
    }
   ],
   "source": [
    "from heapq import nlargest\n",
    "\n",
    "scaler = MinMaxScaler()\n",
    "numeric_scores_normalized = scaler.fit_transform(df['Score'].values.reshape(-1, 1))\n",
    "\n",
    "synopsis_vectorizer = TfidfVectorizer(stop_words='english')\n",
    "synopsis_matrix = synopsis_vectorizer.fit_transform(df['Synopsis'].fillna(''))\n",
    "\n",
    "# Create a TF-IDF vectorizer for genres\n",
    "genres_vectorizer = TfidfVectorizer(stop_words='english')\n",
    "genres_matrix = genres_vectorizer.fit_transform(df['Genres'])\n",
    "\n",
    "# Combine the TF-IDF matrices for synopses and genres\n",
    "combined_matrix = hstack([synopsis_matrix, genres_matrix, numeric_scores_normalized])\n",
    "\n",
    "# Calculate cosine similarity for combined features\n",
    "combined_similarity = cosine_similarity(combined_matrix)\n",
    "\n",
    "# Initialize an empty DataFrame to store the top 20 similar anime for each anime\n",
    "top_20_similar_anime = pd.DataFrame(index=df['Name'], columns=range(20))\n",
    "\n",
    "# Iterate through each anime and store the top 20 similar anime\n",
    "for idx, anime_name in enumerate(df['Name']):\n",
    "    sim_scores = list(enumerate(combined_similarity[idx]))\n",
    "    sim_scores = nlargest(21, sim_scores, key=lambda x: x[1])  # Get top 20 similar anime\n",
    "    sim_scores = sim_scores[1:]  # Exclude the first anime (itself)\n",
    "    top_20_anime_names = [df.iloc[i[0]]['Name'] for i in sim_scores]\n",
    "    top_20_similar_anime.iloc[idx] = top_20_anime_names\n",
    "\n",
    "# Display the DataFrame containing the top 20 similar anime for each anime\n",
    "print(\"Top 20 Similar Anime for Each Anime:\")\n",
    "top_20_similar_anime.to_csv(\"combined_similarity.csv\")\n"
   ]
  },
  {
   "cell_type": "code",
   "execution_count": null,
   "metadata": {},
   "outputs": [
    {
     "name": "stdout",
     "output_type": "stream",
     "text": [
      "Recommendations for One Punch Man: ['One Punch Man: Road to Hero', 'One Punch Man 2nd Season', 'One Punch Man Specials', 'One Punch Man 2nd Season Specials', 'One Punch Man 2nd Season Commemorative Special', 'Towa no Quon 6: Towa no Quon', 'Towa no Quon 4: Guren no Shoushin', 'Towa no Quon 5: Souzetsu no Raifuku', 'Towa no Quon 1: Utakata no Kaben', 'Toaru Kagaku no Railgun S', 'Toaru Kagaku no Railgun T', 'Samurai Flamenco', 'Toaru Kagaku no Railgun', 'Tokyo ESP', 'K: Missing Kings', 'Toaru Kagaku no Railgun: Misaka-san wa Ima Chuumoku no Mato Desu kara', 'Towa no Quon 2: Konton no Ranbu', 'Kiddy GiRL-AND', 'Canaan', 'Witchblade']\n"
     ]
    }
   ],
   "source": [
    "def recommend_anime(anime_name, similarity_matrix, df, num_recommendations=5):\n",
    "    idx = df[df['Name'] == anime_name].index[0]\n",
    "    sim_scores = list(enumerate(similarity_matrix[idx]))\n",
    "    sim_scores = sorted(sim_scores, key=lambda x: x[1], reverse=True)\n",
    "    sim_scores = sim_scores[1:num_recommendations + 1]\n",
    "    recommendations = [df['Name'][i[0]] for i in sim_scores]\n",
    "    return recommendations\n",
    "\n",
    "# Example usage\n",
    "anime_name = 'One Punch Man'\n",
    "recommendations = recommend_anime(anime_name, combined_similarity_df.values, df, num_recommendations=20)\n",
    "print(f\"Recommendations for {anime_name}: {recommendations}\")\n"
   ]
  }
 ],
 "metadata": {
  "kernelspec": {
   "display_name": "Python 3",
   "language": "python",
   "name": "python3"
  },
  "language_info": {
   "codemirror_mode": {
    "name": "ipython",
    "version": 3
   },
   "file_extension": ".py",
   "mimetype": "text/x-python",
   "name": "python",
   "nbconvert_exporter": "python",
   "pygments_lexer": "ipython3",
   "version": "3.9.2"
  }
 },
 "nbformat": 4,
 "nbformat_minor": 2
}
